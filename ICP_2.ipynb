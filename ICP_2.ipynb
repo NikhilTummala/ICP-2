{
  "nbformat": 4,
  "nbformat_minor": 0,
  "metadata": {
    "colab": {
      "provenance": [],
      "include_colab_link": true
    },
    "kernelspec": {
      "name": "python3",
      "display_name": "Python 3"
    },
    "language_info": {
      "name": "python"
    }
  },
  "cells": [
    {
      "cell_type": "markdown",
      "metadata": {
        "id": "view-in-github",
        "colab_type": "text"
      },
      "source": [
        "<a href=\"https://colab.research.google.com/github/NikhilTummala/ICP-2/blob/main/ICP_2.ipynb\" target=\"_parent\"><img src=\"https://colab.research.google.com/assets/colab-badge.svg\" alt=\"Open In Colab\"/></a>"
      ]
    },
    {
      "cell_type": "code",
      "execution_count": null,
      "metadata": {
        "colab": {
          "base_uri": "https://localhost:8080/"
        },
        "id": "B9GMEnNh_Qby",
        "outputId": "e8b7d033-d9b7-4c6f-d825-52bf20b6e999"
      },
      "outputs": [
        {
          "output_type": "stream",
          "name": "stdout",
          "text": [
            "Sorted ages:  [19, 19, 20, 22, 24, 24, 24, 25, 25, 26]\n",
            "Min age: 19\n",
            "Max age: 26\n",
            "Updated ages: [19, 19, 19, 20, 22, 24, 24, 24, 25, 25, 26, 26]\n",
            "Median age: 24.0\n",
            "Average age: 22.75\n",
            "Range of ages: 7\n"
          ]
        }
      ],
      "source": [
        "# ICP 2\n",
        "# Question 1\n",
        "\n",
        "ages = [19, 22, 19, 24, 20, 25, 26, 24, 25, 24]\n",
        "\n",
        "#Sorting ages\n",
        "ages.sort()\n",
        "print(\"Sorted ages: \", ages) #To print ages\n",
        "\n",
        "#Finding Min and Max age\n",
        "min_age = min(ages)\n",
        "max_age = max(ages)\n",
        "print(\"Min age:\", min_age)\n",
        "print(\"Max age:\", max_age)\n",
        "\n",
        "# Add min and max age to the list again\n",
        "ages.append(min_age)\n",
        "ages.append(max_age)\n",
        "ages.sort()  # Sorting again after adding new elements\n",
        "print(\"Updated ages:\", ages)\n",
        "\n",
        "# Finding median\n",
        "n = len(ages)\n",
        "if n % 2 == 0:\n",
        "    median = (ages[n//2 - 1] + ages[n//2]) / 2\n",
        "else:\n",
        "    median = ages[n//2]\n",
        "print(\"Median age:\", median)\n",
        "\n",
        "# Finding average age\n",
        "average = sum(ages) / n\n",
        "print(\"Average age:\", average)\n",
        "\n",
        "# Finding range\n",
        "age_range = max_age - min_age\n",
        "print(\"Range of ages:\", age_range)\n",
        "\n",
        "\n"
      ]
    },
    {
      "cell_type": "code",
      "source": [
        "#ICP 2\n",
        "#Question 2\n",
        "\n",
        "# Create an empty dictionary called dog\n",
        "dog = {}\n",
        "\n",
        "# Add name, color, breed, legs, age to the dog dictionary\n",
        "dog[\"name\"] = \"Buddy\"\n",
        "dog[\"color\"] = \"Brown\"\n",
        "dog[\"breed\"] = \"Labrador\"\n",
        "dog[\"legs\"] = 4\n",
        "dog[\"age\"] = 3\n",
        "\n",
        "# Create a student dictionary\n",
        "student = {\n",
        "    \"first_name\": \"Nikhil\",\n",
        "    \"last_name\": \"Tummala\",\n",
        "    \"gender\": \"Male\",\n",
        "    \"age\": 18,\n",
        "    \"marital_status\": \"Single\",\n",
        "    \"skills\": [\"Python\", \"Machine Learning\"],\n",
        "    \"country\": \"India\",\n",
        "    \"city\": \"Vizag\",\n",
        "    \"address\": \"ABCD st\"\n",
        "}\n",
        "\n",
        "# Get the length of the student dictionary\n",
        "student_length = len(student)\n",
        "print(\"Length of student dictionary:\", student_length)\n",
        "\n",
        "# Get the value of skills and check its data type\n",
        "skills = student[\"skills\"]\n",
        "print(\"Skills:\", skills)\n",
        "print(\"Type of skills:\", type(skills))  # Should be a list\n",
        "\n",
        "# Modify the skills values by adding one or two skills\n",
        "student[\"skills\"].extend([\"Data Science\", \"SQL\"])\n",
        "print(\"Updated skills:\", student[\"skills\"])\n",
        "\n",
        "# Get the dictionary keys as a list\n",
        "student_keys = list(student.keys())\n",
        "print(\"Student dictionary keys:\", student_keys)\n",
        "\n",
        "# Get the dictionary values as a list\n",
        "student_values = list(student.values())\n",
        "print(\"Student dictionary values:\", student_values)\n"
      ],
      "metadata": {
        "colab": {
          "base_uri": "https://localhost:8080/"
        },
        "id": "6zzVUTVkB5wH",
        "outputId": "8c9cfb6d-ad1e-4399-fec6-a420031bdb31"
      },
      "execution_count": null,
      "outputs": [
        {
          "output_type": "stream",
          "name": "stdout",
          "text": [
            "Length of student dictionary: 9\n",
            "Skills: ['Python', 'Machine Learning']\n",
            "Type of skills: <class 'list'>\n",
            "Updated skills: ['Python', 'Machine Learning', 'Data Science', 'SQL']\n",
            "Student dictionary keys: ['first_name', 'last_name', 'gender', 'age', 'marital_status', 'skills', 'country', 'city', 'address']\n",
            "Student dictionary values: ['Nikhil', 'Tummala', 'Male', 18, 'Single', ['Python', 'Machine Learning', 'Data Science', 'SQL'], 'India', 'Vizag', 'ABCD st']\n"
          ]
        }
      ]
    },
    {
      "cell_type": "code",
      "source": [
        "#ICP 2\n",
        "#Question 3\n",
        "\n",
        "# Create a tuple containing names of your sisters and brothers\n",
        "sisters = (\"Ananya\", \"Siri\")\n",
        "brothers = (\"Arjun\", \"Rohan\")\n",
        "\n",
        "# Join brothers and sisters tuples and assign it to siblings\n",
        "siblings = brothers + sisters\n",
        "print(\"My Siblings are\", siblings)\n",
        "\n",
        "# Count the number of siblings\n",
        "num_siblings = len(siblings)\n",
        "print(\"Number of siblings are\", num_siblings)\n",
        "\n",
        "# Modify the siblings tuple by adding the names of father and mother\n",
        "family_members = siblings + (\"Ravi\", \"Lakshmi\")  # Adding parents' names\n",
        "print(\"Family members:\", family_members)\n"
      ],
      "metadata": {
        "colab": {
          "base_uri": "https://localhost:8080/"
        },
        "id": "rFCKP1W3B7Co",
        "outputId": "4a8d0df1-8773-4af0-95e8-2ccf9e18dec2"
      },
      "execution_count": null,
      "outputs": [
        {
          "output_type": "stream",
          "name": "stdout",
          "text": [
            "My Siblings are ('Arjun', 'Rohan', 'Ananya', 'Siri')\n",
            "Number of siblings are 4\n",
            "Family members: ('Arjun', 'Rohan', 'Ananya', 'Siri', 'Ravi', 'Lakshmi')\n"
          ]
        }
      ]
    },
    {
      "cell_type": "code",
      "source": [
        "#ICP 2\n",
        "#Question 4\n",
        "\n",
        "# Given sets and list\n",
        "it_companies = {'Facebook', 'Google', 'Microsoft', 'Apple', 'IBM', 'Oracle', 'Amazon'}\n",
        "A = {19, 22, 24, 20, 25, 26}\n",
        "B = {19, 22, 20, 25, 26, 24, 28, 27}\n",
        "age = [22, 19, 24, 25, 26, 24, 25, 24]\n",
        "\n",
        "# Find the length of the set it_companies\n",
        "print(\"Length of it-companies is\", len(it_companies))\n",
        "\n",
        "# Add 'Twitter' to it_companies\n",
        "it_companies.add('Twitter')\n",
        "print(\"Updated it-companies are\", it_companies)\n",
        "\n",
        "# Insert multiple IT companies at once to the set it_companies\n",
        "it_companies.update(['Tesla', 'Spotify', 'Netflix'])\n",
        "print(\"Updated it-companies after adding multiple:\", it_companies)\n",
        "\n",
        "# Remove one of the companies from the set it_companies\n",
        "it_companies.remove('IBM')  # If 'IBM' exists, it will be removed\n",
        "print(\"it-companies after removing IBM:\", it_companies)\n",
        "\n",
        "# Difference between remove and discard\n",
        "# - remove() raises an error if the item is not found in the set\n",
        "# - discard() does not raise an error if the item is missing\n",
        "\n",
        "# Join A and B\n",
        "A_B_union = A.union(B)\n",
        "print(\"Union of A and B:\", A_B_union)\n",
        "\n",
        "# Find A intersection B\n",
        "A_B_intersection = A.intersection(B)\n",
        "print(\"Intersection of A and B:\", A_B_intersection)\n",
        "\n",
        "# Is A subset of B\n",
        "print(\"Is A subset of B?\", A.issubset(B))\n",
        "\n",
        "# Are A and B disjoint sets\n",
        "print(\"Are A and B disjoint sets?\", A.isdisjoint(B))\n",
        "\n",
        "# Join A with B and B with A (same as union)\n",
        "print(\"A union B:\", A | B)\n",
        "print(\"B union A:\", B | A)\n",
        "\n",
        "# Find the symmetric difference between A and B\n",
        "A_B_sym_diff = A.symmetric_difference(B)\n",
        "print(\"Symmetric difference between A and B:\", A_B_sym_diff)\n",
        "\n",
        "# Delete the sets completely\n",
        "del A, B\n",
        "print(\"Sets A and B deleted.\")\n",
        "\n",
        "# Convert the ages list to a set and compare lengths\n",
        "age_set = set(age)\n",
        "print(\"Length of age list:\", len(age))\n",
        "print(\"Length of age set:\", len(age_set))\n"
      ],
      "metadata": {
        "colab": {
          "base_uri": "https://localhost:8080/"
        },
        "id": "biJVyOKNB7Tq",
        "outputId": "945a7fc7-bc95-4650-b263-4b0db37f60b1"
      },
      "execution_count": null,
      "outputs": [
        {
          "output_type": "stream",
          "name": "stdout",
          "text": [
            "Length of it-companies is 7\n",
            "Updated it-companies are {'IBM', 'Facebook', 'Amazon', 'Apple', 'Twitter', 'Oracle', 'Microsoft', 'Google'}\n",
            "Updated it-companies after adding multiple: {'IBM', 'Spotify', 'Amazon', 'Netflix', 'Oracle', 'Microsoft', 'Apple', 'Facebook', 'Tesla', 'Twitter', 'Google'}\n",
            "it-companies after removing IBM: {'Spotify', 'Amazon', 'Netflix', 'Oracle', 'Microsoft', 'Apple', 'Facebook', 'Tesla', 'Twitter', 'Google'}\n",
            "Union of A and B: {19, 20, 22, 24, 25, 26, 27, 28}\n",
            "Intersection of A and B: {19, 20, 22, 24, 25, 26}\n",
            "Is A subset of B? True\n",
            "Are A and B disjoint sets? False\n",
            "A union B: {19, 20, 22, 24, 25, 26, 27, 28}\n",
            "B union A: {19, 20, 22, 24, 25, 26, 27, 28}\n",
            "Symmetric difference between A and B: {27, 28}\n",
            "Sets A and B deleted.\n",
            "Length of age list: 8\n",
            "Length of age set: 5\n"
          ]
        }
      ]
    },
    {
      "cell_type": "code",
      "source": [
        "#ICP 2\n",
        "#Question 5\n",
        "\n",
        "import math\n",
        "\n",
        "# Given radius\n",
        "radius = 30\n",
        "\n",
        "# Calculate the area of the circle\n",
        "_area_of_circle_ = math.pi * radius ** 2\n",
        "print(\"Area of the circle:\", _area_of_circle_)\n",
        "\n",
        "# Calculate the circumference of the circle\n",
        "_circum_of_circle_ = 2 * math.pi * radius\n",
        "print(\"Circumference of the circle:\", _circum_of_circle_)\n",
        "\n",
        "# Take radius as user input and calculate the area\n",
        "user_radius = float(input(\"Enter the radius of the circle: \"))\n",
        "user_area_of_circle = math.pi * user_radius ** 2\n",
        "print(\"Area of the circle with user input radius:\", user_area_of_circle)\n"
      ],
      "metadata": {
        "colab": {
          "base_uri": "https://localhost:8080/"
        },
        "id": "IBzHZ_IbGYT5",
        "outputId": "44aa96cf-3d54-46d4-feff-3c449f3634e5"
      },
      "execution_count": null,
      "outputs": [
        {
          "output_type": "stream",
          "name": "stdout",
          "text": [
            "Area of the circle: 2827.4333882308138\n",
            "Circumference of the circle: 188.49555921538757\n",
            "Enter the radius of the circle: 30\n",
            "Area of the circle with user input radius: 2827.4333882308138\n"
          ]
        }
      ]
    },
    {
      "cell_type": "code",
      "source": [
        "#ICP 2\n",
        "#Question 6\n",
        "\n",
        "# Given sentence\n",
        "sentence = \"I am a teacher and I love to inspire and teach people\"\n",
        "\n",
        "# Split the sentence into words\n",
        "words = sentence.split()\n",
        "\n",
        "# Convert the list of words into a set to get unique words\n",
        "unique_words = set(words)\n",
        "\n",
        "# Get the number of unique words\n",
        "num_unique_words = len(unique_words)\n",
        "\n",
        "print(\"Unique words:\", unique_words)\n",
        "print(\"Number of unique words:\", num_unique_words)\n"
      ],
      "metadata": {
        "colab": {
          "base_uri": "https://localhost:8080/"
        },
        "id": "EPlMs_lmGrpp",
        "outputId": "44cde3d3-0a07-42f3-d2b6-46bb1942e3d1"
      },
      "execution_count": null,
      "outputs": [
        {
          "output_type": "stream",
          "name": "stdout",
          "text": [
            "Unique words: {'teach', 'am', 'and', 'to', 'inspire', 'a', 'love', 'I', 'people', 'teacher'}\n",
            "Number of unique words: 10\n"
          ]
        }
      ]
    },
    {
      "cell_type": "code",
      "source": [
        "#ICP 2\n",
        "#Question 7\n",
        "\n",
        "# Print the formatted lines using tab escape sequences\n",
        "print(\"Name\\tAge\\tCountry\\tCity\")\n",
        "print(\"Asabeneh\\t250\\tFinland\\tHelsinki\")\n"
      ],
      "metadata": {
        "colab": {
          "base_uri": "https://localhost:8080/"
        },
        "id": "k40AfEQHHWUi",
        "outputId": "ca0b3a85-5ea9-487e-e538-f1d48b9e5616"
      },
      "execution_count": null,
      "outputs": [
        {
          "output_type": "stream",
          "name": "stdout",
          "text": [
            "Name\tAge\tCountry\tCity\n",
            "Asabeneh\t250\tFinland\tHelsinki\n"
          ]
        }
      ]
    },
    {
      "cell_type": "markdown",
      "source": [],
      "metadata": {
        "id": "kjyZkkDrB7yD"
      }
    },
    {
      "cell_type": "code",
      "source": [
        "#ICP 2\n",
        "#Question 8\n",
        "\n",
        "# Given values\n",
        "radius = 10\n",
        "area = 3.14 * radius ** 2\n",
        "\n",
        "# Using string formatting (f-string)\n",
        "print(f\"The area of a circle with radius {radius} is {area} meters square.\")\n"
      ],
      "metadata": {
        "colab": {
          "base_uri": "https://localhost:8080/"
        },
        "id": "1yIBHjqoHiJk",
        "outputId": "7f2de25f-31a3-4dd4-95ff-b397a5beeb2b"
      },
      "execution_count": null,
      "outputs": [
        {
          "output_type": "stream",
          "name": "stdout",
          "text": [
            "The area of a circle with radius 10 is 314.0 meters square.\n"
          ]
        }
      ]
    }
  ]
}