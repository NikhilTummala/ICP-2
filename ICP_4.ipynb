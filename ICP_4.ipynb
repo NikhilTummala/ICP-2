{
  "nbformat": 4,
  "nbformat_minor": 0,
  "metadata": {
    "colab": {
      "provenance": [],
      "include_colab_link": true
    },
    "kernelspec": {
      "name": "python3",
      "display_name": "Python 3"
    },
    "language_info": {
      "name": "python"
    }
  },
  "cells": [
    {
      "cell_type": "markdown",
      "metadata": {
        "id": "view-in-github",
        "colab_type": "text"
      },
      "source": [
        "<a href=\"https://colab.research.google.com/github/NikhilTummala/ICP-2/blob/main/ICP_4.ipynb\" target=\"_parent\"><img src=\"https://colab.research.google.com/assets/colab-badge.svg\" alt=\"Open In Colab\"/></a>"
      ]
    },
    {
      "cell_type": "code",
      "execution_count": null,
      "metadata": {
        "id": "F3_snETuVeLI"
      },
      "outputs": [],
      "source": [
        "#Nikhil Tummala\n",
        "#700751609\n",
        "#ICP 4\n",
        "#Question 1\n",
        "\n",
        "import numpy as np\n",
        "\n",
        "# Create a random vector of size 15 with integers in the range 1-20\n",
        "random_vector = np.random.randint(1, 21, 15)\n",
        "\n",
        "# Reshape the array to 3 by 5\n",
        "reshaped_array = random_vector.reshape(3, 5)\n",
        "\n",
        "# Replace the max in each row by 0\n",
        "for row in reshaped_array:\n",
        "    row[row.argmax()] = 0\n",
        "\n",
        "# Print the reshaped array\n",
        "print(\"Reshaped Array with max replaced by 0:\")\n",
        "print(reshaped_array)\n",
        "\n",
        "# Print the shape of the array\n",
        "print(\"\\nArray Shape:\", reshaped_array.shape)\n",
        "\n",
        "# Create a 2-dimensional array of size 4x3 with 4-byte integer elements\n",
        "two_d_array = np.random.randint(1, 100, (4, 3), dtype=np.int32)\n",
        "\n",
        "# Print the array, shape, type, and data type\n",
        "print(\"\\n2D Array:\")\n",
        "print(two_d_array)\n",
        "print(\"\\nShape:\", two_d_array.shape)\n",
        "print(\"Type:\", type(two_d_array))\n",
        "print(\"Data Type:\", two_d_array.dtype)\n",
        "\n",
        "# Define the square array\n",
        "square_array = np.array([[3, -2], [1, 0]])\n",
        "\n",
        "# Compute the eigenvalues and right eigenvectors\n",
        "eigenvalues, eigenvectors = np.linalg.eig(square_array)\n",
        "\n",
        "# Print the eigenvalues and eigenvectors\n",
        "print(\"\\nEigenvalues:\")\n",
        "print(eigenvalues)\n",
        "print(\"\\nRight Eigenvectors:\")\n",
        "print(eigenvectors)\n",
        "\n",
        "# Compute the sum of the diagonal elements of a given array\n",
        "diagonal_array = np.array([[0, 1, 2], [3, 4, 5]])\n",
        "diagonal_sum = np.trace(diagonal_array)\n",
        "print(\"\\nSum of diagonal elements:\", diagonal_sum)\n",
        "\n",
        "# Reshape an array without changing its data\n",
        "original_array = np.array([[1, 2], [3, 4], [5, 6]])\n",
        "reshaped_2x3 = original_array.reshape(2, 3)\n",
        "\n",
        "# Print reshaped arrays\n",
        "print(\"\\nOriginal 3x2 Array:\")\n",
        "print(original_array)\n",
        "print(\"\\nReshaped 2x3 Array:\")\n",
        "print(reshaped_2x3)\n"
      ]
    }
  ]
}